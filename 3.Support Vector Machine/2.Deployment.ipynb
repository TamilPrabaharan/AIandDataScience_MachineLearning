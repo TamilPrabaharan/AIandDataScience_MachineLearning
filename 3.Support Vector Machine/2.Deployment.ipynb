{
 "cells": [
  {
   "cell_type": "code",
   "execution_count": 1,
   "id": "ce27395a-d545-4162-88e6-a85d9f28d633",
   "metadata": {},
   "outputs": [],
   "source": [
    "import pickle"
   ]
  },
  {
   "cell_type": "code",
   "execution_count": 2,
   "id": "b632ad70-8cd5-4d6b-8cd5-65f76c088a3c",
   "metadata": {},
   "outputs": [],
   "source": [
    "loaded_model=pickle.load(open(\"svm_final.sav\",\"rb\"))\n",
    "result=loaded_model.predict([[1234,345,4565,1,0]])"
   ]
  },
  {
   "cell_type": "code",
   "execution_count": 3,
   "id": "3f478bf3-024b-4022-9b28-b9844d98e5e2",
   "metadata": {},
   "outputs": [
    {
     "data": {
      "text/plain": [
       "array([72910824.02259786])"
      ]
     },
     "execution_count": 3,
     "metadata": {},
     "output_type": "execute_result"
    }
   ],
   "source": [
    "result"
   ]
  }
 ],
 "metadata": {
  "kernelspec": {
   "display_name": "Python 3 (ipykernel)",
   "language": "python",
   "name": "python3"
  },
  "language_info": {
   "codemirror_mode": {
    "name": "ipython",
    "version": 3
   },
   "file_extension": ".py",
   "mimetype": "text/x-python",
   "name": "python",
   "nbconvert_exporter": "python",
   "pygments_lexer": "ipython3",
   "version": "3.12.4"
  }
 },
 "nbformat": 4,
 "nbformat_minor": 5
}
