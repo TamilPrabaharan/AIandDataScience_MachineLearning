{
 "cells": [
  {
   "cell_type": "code",
   "execution_count": 1,
   "id": "03de599b-77ee-46af-8fd0-1ef5c6d19b60",
   "metadata": {},
   "outputs": [],
   "source": [
    "import pickle\n",
    "sc=pickle.load(open(\"RF_final_sc.pkl\",\"rb\"))"
   ]
  },
  {
   "cell_type": "code",
   "execution_count": 2,
   "id": "3dbcdfe5-bb35-4831-a7c1-d7befc4005b9",
   "metadata": {},
   "outputs": [
    {
     "name": "stdin",
     "output_type": "stream",
     "text": [
      "Age (in years):  2\n",
      "Blood Pressure (BP):  76\n",
      "Albumin (AL):  3\n",
      "Sugar (SU):  0\n",
      "Blood Glucose Random (BGR):  145\n",
      "Blood Urea (BU):  57\n",
      "Serum Creatinine (SC):  3\n",
      "Sodium (SOD):  134\n",
      "Potassium (POT):  5\n",
      "Hemoglobin (HRMO):  12\n",
      "Packed Cell Volume (PCV):  35\n",
      "White Blood Cell Count (WC):  8500\n",
      "Red Blood Cell Count (RC):  5\n",
      "Specific Gravity - Level B (SG B):  1\n",
      "Specific Gravity - Level C (SG C):  0\n",
      "Specific Gravity - Level D (SG D):  0\n",
      "Specific Gravity - Level E (SG E):  1\n",
      "Red Blood Cells Normal (RBC Normal):  1\n",
      "Pus Cell Normal (PC Normal):  1\n",
      "Pus Cell Clumps Present (PCC Present):  1\n",
      "Bacteria Present (BA Present):  1\n",
      "Hypertension Yes (HTN Yes):  1\n",
      "Diabetes Mellitus Yes (DM Yes):  1\n",
      "Coronary Artery Disease Yes (CAD Yes):  1\n",
      "Appetite Yes (Appet Yes):  1\n",
      "Pedal Edema Yes (PE Yes):  1\n",
      "Anemia Yes (ANE Yes):  1\n"
     ]
    }
   ],
   "source": [
    "age_input = float(input(\"Age (in years): \"))\n",
    "bp_input = float(input(\"Blood Pressure (BP): \"))\n",
    "al_input = float(input(\"Albumin (AL): \"))\n",
    "su_input = float(input(\"Sugar (SU): \"))\n",
    "bgr_input = float(input(\"Blood Glucose Random (BGR): \"))\n",
    "bu_input = float(input(\"Blood Urea (BU): \"))\n",
    "sc_input = float(input(\"Serum Creatinine (SC): \"))\n",
    "sod_input = float(input(\"Sodium (SOD): \"))\n",
    "pot_input = float(input(\"Potassium (POT): \"))\n",
    "hrmo_input = float(input(\"Hemoglobin (HRMO): \"))\n",
    "pcv_input = float(input(\"Packed Cell Volume (PCV): \"))\n",
    "wc_input = float(input(\"White Blood Cell Count (WC): \"))\n",
    "rc_input = float(input(\"Red Blood Cell Count (RC): \"))\n",
    "sg_b_input = int(input(\"Specific Gravity - Level B (SG B): \"))\n",
    "sg_c_input = int(input(\"Specific Gravity - Level C (SG C): \"))\n",
    "sg_d_input = int(input(\"Specific Gravity - Level D (SG D): \"))\n",
    "sg_e_input = int(input(\"Specific Gravity - Level E (SG E): \"))\n",
    "rbc_normal_input = int(input(\"Red Blood Cells Normal (RBC Normal): \"))\n",
    "pc_normal_input = int(input(\"Pus Cell Normal (PC Normal): \"))\n",
    "pcc_present_input = int(input(\"Pus Cell Clumps Present (PCC Present): \"))\n",
    "ba_present_input = int(input(\"Bacteria Present (BA Present): \"))\n",
    "htn_yes_input = int(input(\"Hypertension Yes (HTN Yes): \"))\n",
    "dm_yes_input = int(input(\"Diabetes Mellitus Yes (DM Yes): \"))\n",
    "cad_yes_input = int(input(\"Coronary Artery Disease Yes (CAD Yes): \"))\n",
    "appet_yes_input = int(input(\"Appetite Yes (Appet Yes): \"))\n",
    "pe_yes_input = int(input(\"Pedal Edema Yes (PE Yes): \"))\n",
    "ane_yes_input = int(input(\"Anemia Yes (ANE Yes): \"))"
   ]
  },
  {
   "cell_type": "code",
   "execution_count": 3,
   "id": "485b15a5-0387-468b-80d4-d1daee1857d9",
   "metadata": {},
   "outputs": [
    {
     "name": "stderr",
     "output_type": "stream",
     "text": [
      "C:\\Anaconda3\\Lib\\site-packages\\sklearn\\base.py:493: UserWarning: X does not have valid feature names, but StandardScaler was fitted with feature names\n",
      "  warnings.warn(\n"
     ]
    },
    {
     "data": {
      "text/plain": [
       "array([[-2.91575992, -0.03413311,  1.59943471, -0.38081467, -0.04162982,\n",
       "        -0.00978414, -0.01377249, -0.38338213,  0.13219331, -0.19103583,\n",
       "        -0.47488414,  0.03638824,  0.35050016,  1.98139494, -0.51639778,\n",
       "        -0.48112522,  7.48331477,  0.36540762,  0.48507125,  2.91547595,\n",
       "         4.13960912,  1.31638775,  1.39061984,  3.27647587,  0.51250193,\n",
       "         2.04494943,  2.37697286]])"
      ]
     },
     "execution_count": 3,
     "metadata": {},
     "output_type": "execute_result"
    }
   ],
   "source": [
    "preinput=sc.transform([[age_input, bp_input, al_input, su_input, bgr_input, bu_input, sc_input, sod_input, pot_input, \n",
    "                                 hrmo_input, pcv_input, wc_input, rc_input, sg_b_input, sg_c_input, sg_d_input, sg_e_input, \n",
    "                                 rbc_normal_input, pc_normal_input, pcc_present_input, ba_present_input, htn_yes_input, \n",
    "                                 dm_yes_input, cad_yes_input, appet_yes_input, pe_yes_input, ane_yes_input]]) \n",
    "preinput"
   ]
  },
  {
   "cell_type": "code",
   "execution_count": 6,
   "id": "55f6f10e-d99c-4400-b0cc-cc3054bdb8a8",
   "metadata": {},
   "outputs": [
    {
     "data": {
      "text/plain": [
       "array([1])"
      ]
     },
     "execution_count": 6,
     "metadata": {},
     "output_type": "execute_result"
    }
   ],
   "source": [
    "loaded_model=pickle.load(open(\"finalized_model_Random Forest_GridSearchCV_CKD.sav\",'rb'))\n",
    "result=loaded_model.predict(preinput) \n",
    "result"
   ]
  },
  {
   "cell_type": "code",
   "execution_count": 7,
   "id": "cf408d8b-9b93-4b37-936d-582f0af8bdb8",
   "metadata": {},
   "outputs": [
    {
     "name": "stdout",
     "output_type": "stream",
     "text": [
      "The result for Chronic Kidney Disease: Yes - Please consult your doctor\n"
     ]
    }
   ],
   "source": [
    "if result==0:\n",
    "    print(\"The result for Chronic Kidney Disease: No - You're alright\")\n",
    "else:\n",
    "    print(\"The result for Chronic Kidney Disease: Yes - Please consult your doctor\")"
   ]
  }
 ],
 "metadata": {
  "kernelspec": {
   "display_name": "Python 3 (ipykernel)",
   "language": "python",
   "name": "python3"
  },
  "language_info": {
   "codemirror_mode": {
    "name": "ipython",
    "version": 3
   },
   "file_extension": ".py",
   "mimetype": "text/x-python",
   "name": "python",
   "nbconvert_exporter": "python",
   "pygments_lexer": "ipython3",
   "version": "3.12.4"
  }
 },
 "nbformat": 4,
 "nbformat_minor": 5
}
