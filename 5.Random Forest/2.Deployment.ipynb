{
 "cells": [
  {
   "cell_type": "code",
   "execution_count": 1,
   "id": "52c532a3-b069-43c4-b16c-dc8b2d081530",
   "metadata": {},
   "outputs": [],
   "source": [
    "import pickle"
   ]
  },
  {
   "cell_type": "code",
   "execution_count": 2,
   "id": "2b3c92b8-f878-4cf5-9828-5e5835bd2c0f",
   "metadata": {},
   "outputs": [
    {
     "name": "stderr",
     "output_type": "stream",
     "text": [
      "C:\\Anaconda3\\Lib\\site-packages\\sklearn\\base.py:493: UserWarning: X does not have valid feature names, but RandomForestRegressor was fitted with feature names\n",
      "  warnings.warn(\n"
     ]
    }
   ],
   "source": [
    "loaded_model=pickle.load(open(\"finalized_model_forest.sav\",'rb'))\n",
    "result=loaded_model.predict([[1234,345,4565,1,0]])"
   ]
  },
  {
   "cell_type": "code",
   "execution_count": 3,
   "id": "bd132b63-dda4-48c7-b8c2-a923cec6b6d2",
   "metadata": {},
   "outputs": [
    {
     "data": {
      "text/plain": [
       "array([52542.0338])"
      ]
     },
     "execution_count": 3,
     "metadata": {},
     "output_type": "execute_result"
    }
   ],
   "source": [
    "result"
   ]
  }
 ],
 "metadata": {
  "kernelspec": {
   "display_name": "Python 3 (ipykernel)",
   "language": "python",
   "name": "python3"
  },
  "language_info": {
   "codemirror_mode": {
    "name": "ipython",
    "version": 3
   },
   "file_extension": ".py",
   "mimetype": "text/x-python",
   "name": "python",
   "nbconvert_exporter": "python",
   "pygments_lexer": "ipython3",
   "version": "3.12.4"
  }
 },
 "nbformat": 4,
 "nbformat_minor": 5
}
